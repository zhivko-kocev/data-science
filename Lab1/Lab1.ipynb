{
  "cells": [
    {
      "cell_type": "markdown",
      "metadata": {
        "id": "skreU4ZawqQ_"
      },
      "source": [
        "# Lab Exercise 1. Scraping Static Websites\n"
      ]
    },
    {
      "cell_type": "markdown",
      "metadata": {
        "id": "VzAWoqz5wwT9"
      },
      "source": [
        "This is the warmup task for the first laboratory exercise. It consists of scraping static Websites with BeautifulSoap.\n",
        "\n",
        " It should be completed at home and presented at the laboratory."
      ]
    },
    {
      "cell_type": "markdown",
      "metadata": {
        "id": "qpdvbrsow5EE"
      },
      "source": [
        "**Total points: 2**"
      ]
    },
    {
      "cell_type": "markdown",
      "metadata": {
        "id": "6eDmGLrXx0t8"
      },
      "source": [
        "### Task Description"
      ]
    },
    {
      "cell_type": "markdown",
      "metadata": {
        "id": "RG42MHsDxAP_"
      },
      "source": [
        "Scrape the information about the products on the following page:\n",
        "https://clevershop.mk/product-category/mobilni-laptopi-i-tableti/"
      ]
    },
    {
      "cell_type": "markdown",
      "metadata": {
        "id": "uoTcMRl4xP3G"
      },
      "source": [
        "For each product scrape:\n",
        "\n",
        "\n",
        "*   Product title (selector `'.wd-entities-title'`)\n",
        "*   Product regular price (selector `'.woocommerce-Price-amount'`)\n",
        "*   Product discount price (if available), same selector as regular price\n",
        "*   URL to the product page\n",
        "*   Add to cart button URL\n",
        "\n",
        "***Help: There are multiple product pages, for each page you need to send a separate request***\n"
      ]
    },
    {
      "cell_type": "markdown",
      "metadata": {
        "id": "tc0QvUR8xxwt"
      },
      "source": [
        "Save the results as a DataFrame object"
      ]
    },
    {
      "cell_type": "markdown",
      "metadata": {
        "id": "peGjiUZLzbZt"
      },
      "source": [
        "You can add as many code cells as you need."
      ]
    },
    {
      "cell_type": "markdown",
      "metadata": {
        "id": "b7U-kwKSzUIV"
      },
      "source": [
        "________________________________________________________________"
      ]
    },
    {
      "cell_type": "markdown",
      "metadata": {
        "id": "yn5gyMzNx5Vk"
      },
      "source": [
        "### Requirements"
      ]
    },
    {
      "cell_type": "markdown",
      "metadata": {
        "id": "WZ3ifNLhx7tk"
      },
      "source": [
        "Import libraries and modules that you are going to use"
      ]
    },
    {
      "cell_type": "code",
      "execution_count": 2,
      "metadata": {
        "id": "GQ3zSO8WyJC_"
      },
      "outputs": [],
      "source": [
        "import requests\n",
        "import pandas as pd\n",
        "from bs4 import BeautifulSoup"
      ]
    },
    {
      "cell_type": "markdown",
      "metadata": {
        "id": "fsR71mugyJP7"
      },
      "source": [
        "### Send HTTP request to the target Website"
      ]
    },
    {
      "cell_type": "code",
      "execution_count": 3,
      "metadata": {
        "id": "61ImGen2yQff"
      },
      "outputs": [],
      "source": [
        "website = requests.get(\"https://clevershop.mk/product-category/mobilni-laptopi-i-tableti/\")"
      ]
    },
    {
      "cell_type": "markdown",
      "metadata": {
        "id": "lFnRsSVJyXit"
      },
      "source": [
        "check the response status code"
      ]
    },
    {
      "cell_type": "code",
      "execution_count": 4,
      "metadata": {
        "id": "xy6xJ3RGyXUN"
      },
      "outputs": [
        {
          "data": {
            "text/plain": [
              "200"
            ]
          },
          "execution_count": 4,
          "metadata": {},
          "output_type": "execute_result"
        }
      ],
      "source": [
        "website.status_code"
      ]
    },
    {
      "cell_type": "markdown",
      "metadata": {
        "id": "-MykzAV4yQ4j"
      },
      "source": [
        "### Parse the response content with BeautifulSoap"
      ]
    },
    {
      "cell_type": "code",
      "execution_count": 5,
      "metadata": {
        "id": "F92A3wvlyUBc"
      },
      "outputs": [],
      "source": [
        "bs = BeautifulSoup(website.text,\"html.parser\")"
      ]
    },
    {
      "cell_type": "markdown",
      "metadata": {
        "id": "F8hifMvVycfV"
      },
      "source": [
        "### Extract data from the BeautifulSoap object using any selectors, attribute identifiers, etc."
      ]
    },
    {
      "cell_type": "markdown",
      "metadata": {
        "id": "sHgfHr61y2tD"
      },
      "source": [
        "* Product title (selector '.wd-entities-title')\n",
        "* Product regular price (selector '.woocommerce-Price-amount')\n",
        "* Product discount price (if available), same selector as regular price\n",
        "* URL to the product page\n",
        "* Add to cart button URL"
      ]
    },
    {
      "cell_type": "code",
      "execution_count": 8,
      "metadata": {
        "id": "UV1kZCRyycQF"
      },
      "outputs": [],
      "source": [
        "data = bs.find_all(\"div\",{\"class\":\"product-wrapper\"})\n",
        "title = data[0].find(\"h3\",{\"class\":\"wd-entities-title\"}).text\n",
        "url = data[0].find(\"h3\",{\"class\":\"wd-entities-title\"}).find(\"a\")[\"href\"]\n",
        "butt_url = data[0].find(\"a\",{\"class\":\"add_to_cart_button\"})[\"href\"]\n",
        "prices = data[0].find(\"span\",{\"class\":\"price\"}).find_all(\"span\",{\"class\":\"amount\"})\n",
        "reg_price = prices[0].find(\"bdi\").text\n",
        "disc_price = None\n",
        "if len(prices) > 1:\n",
        "    disc_price = prices[1].find(\"bdi\").text\n"
      ]
    },
    {
      "cell_type": "markdown",
      "metadata": {
        "id": "gToy7d5Jy9Qk"
      },
      "source": [
        "Repeat the extraction process for each page of products"
      ]
    },
    {
      "cell_type": "code",
      "execution_count": 9,
      "metadata": {
        "id": "rVdYuEv3zArs"
      },
      "outputs": [],
      "source": [
        "pages_num = len(bs.find(\"ul\",{\"class\":\"page-numbers\"}).find_all(\"li\"))\n",
        "products = []\n",
        "\n",
        "for page in range(1,pages_num+1):\n",
        "    website = requests.get(f'https://clevershop.mk/product-category/mobilni-laptopi-i-tableti/page/{page}/?per_page=36')\n",
        "    if website.status_code == 200:\n",
        "        bs = BeautifulSoup(website.text,\"html.parser\")\n",
        "        data = bs.find_all(\"div\",{\"class\":\"product-wrapper\"})\n",
        "        for item in data:\n",
        "            title = item.find(\"h3\",{\"class\":\"wd-entities-title\"}).text\n",
        "            url = item.find(\"h3\",{\"class\":\"wd-entities-title\"}).find(\"a\")[\"href\"]\n",
        "            butt_url = item.find(\"a\",{\"class\":\"add_to_cart_button\"})[\"href\"]\n",
        "            prices = item.find(\"span\",{\"class\":\"price\"}).find_all(\"span\",{\"class\":\"amount\"})\n",
        "            reg_price = prices[0].find(\"bdi\").text\n",
        "            disc_price = None\n",
        "            if len(prices) > 1:\n",
        "                disc_price = prices[1].find(\"bdi\").text\n",
        "            products.append((title,reg_price,disc_price,url,butt_url))"
      ]
    },
    {
      "cell_type": "markdown",
      "metadata": {
        "id": "R4OIUt0AynuU"
      },
      "source": [
        "### Create a pandas DataFrame with the scraped products"
      ]
    },
    {
      "cell_type": "code",
      "execution_count": 10,
      "metadata": {
        "id": "-wCzGEj8yrKU"
      },
      "outputs": [],
      "source": [
        "df = pd.DataFrame(products,columns=[\"title\",\"regular_price\",\"discount_price\",\"product_url\",\"add_button_url\"])"
      ]
    },
    {
      "cell_type": "markdown",
      "metadata": {
        "id": "Rxbi54EOyrb8"
      },
      "source": [
        "Save the dataframe as `.csv`"
      ]
    },
    {
      "cell_type": "code",
      "execution_count": 11,
      "metadata": {
        "id": "TLNfZQ07yuQE"
      },
      "outputs": [],
      "source": [
        "df.to_csv(\"csv/it_products.csv\")"
      ]
    }
  ],
  "metadata": {
    "colab": {
      "provenance": []
    },
    "kernelspec": {
      "display_name": "venv",
      "language": "python",
      "name": "python3"
    },
    "language_info": {
      "codemirror_mode": {
        "name": "ipython",
        "version": 3
      },
      "file_extension": ".py",
      "mimetype": "text/x-python",
      "name": "python",
      "nbconvert_exporter": "python",
      "pygments_lexer": "ipython3",
      "version": "3.12.7"
    }
  },
  "nbformat": 4,
  "nbformat_minor": 0
}
