{
  "cells": [
    {
      "cell_type": "markdown",
      "metadata": {
        "id": "fU3LwS741EZQ"
      },
      "source": [
        "# Requirements"
      ]
    },
    {
      "cell_type": "code",
      "execution_count": 1,
      "metadata": {
        "id": "4aqZf-9e1aKt"
      },
      "outputs": [],
      "source": [
        "from selenium import webdriver\n",
        "from selenium.webdriver.common.by import By\n",
        "import pandas as pd"
      ]
    },
    {
      "cell_type": "markdown",
      "metadata": {
        "id": "eVCAmQfy1rqh"
      },
      "source": [
        "# Configuration"
      ]
    },
    {
      "cell_type": "code",
      "execution_count": 3,
      "metadata": {
        "id": "wWzehF8809IJ"
      },
      "outputs": [],
      "source": [
        "options = webdriver.ChromeOptions()\n",
        "options.add_argument('--headless')\n",
        "options.add_argument('--no-sandbox')\n",
        "options.add_argument('--disable-dev-shm-usage')"
      ]
    },
    {
      "cell_type": "markdown",
      "metadata": {
        "id": "3FU-fkTj1zEC"
      },
      "source": [
        "# Simple Usage"
      ]
    },
    {
      "cell_type": "code",
      "execution_count": 8,
      "metadata": {
        "id": "gGB1un_t10_N"
      },
      "outputs": [],
      "source": [
        "# Initialize the webdriver.\n",
        "browser = webdriver.Chrome(options=options)"
      ]
    },
    {
      "cell_type": "code",
      "execution_count": 9,
      "metadata": {
        "id": "8EYuaHWxa-wR"
      },
      "outputs": [],
      "source": [
        "# Navigate to a web page.\n",
        "browser.get('https://www.apple.com/mk/')"
      ]
    },
    {
      "cell_type": "code",
      "execution_count": 11,
      "metadata": {
        "id": "HWnwzCye2Fq1"
      },
      "outputs": [],
      "source": [
        "# Print the page source code.\n",
        "#print(browser.page_source) - commented because of long page source"
      ]
    },
    {
      "cell_type": "code",
      "execution_count": 14,
      "metadata": {
        "id": "H-5h-xse2L8I"
      },
      "outputs": [],
      "source": [
        "# Select an element from the page.\n",
        "element = browser.find_element(By.CLASS_NAME, 'headline')"
      ]
    },
    {
      "cell_type": "code",
      "execution_count": 15,
      "metadata": {
        "id": "Rne65WGs3CJs"
      },
      "outputs": [
        {
          "name": "stdout",
          "output_type": "stream",
          "text": [
            "iPhone 16 Pro\n"
          ]
        }
      ],
      "source": [
        "# Print the element's inner text.\n",
        "print(element.text)"
      ]
    },
    {
      "cell_type": "markdown",
      "metadata": {
        "id": "JzaK-Awf4hKN"
      },
      "source": [
        "# Laboratory Exercise - Run Mode (8 points)"
      ]
    },
    {
      "cell_type": "markdown",
      "metadata": {
        "id": "S0YnPh8r4p7M"
      },
      "source": [
        "In this laboratory assignment, the goal is to perform web scraping on the website https://books.toscrape.com/. Your task includes the extraction of book titles and prices for a minimum of 20 books from this website. Following this data extraction, you will construct a data frame to organize the collected data. Finally, you are expected to generate a histogram to provide a visual representation of the distribution of book prices."
      ]
    },
    {
      "cell_type": "markdown",
      "metadata": {
        "id": "pAWUA3br7pnH"
      },
      "source": [
        "## Hints\n",
        "- To navigate to a specific page with a given URL, use the `browser.get(url)` method.\n",
        "- When selecting a single element, use `browser.find_element`, and for multiple elements, use `browser.find_elements`. Both of these functions take two arguments. The first specifies the attribute used to locate the element on the web page, and the second specifies the value of that attribute.\n",
        "- The `By` class is used to specify which attribute is used to locate elements on a page. These are the various ways the attributes are used to locate elements on a page: `By.ID`, `By.NAME`, `By.TAG_NAME`, `BY.CLASS_NAME`, `By.CSS_SELECTOR`, etc.\n",
        "- For more details, check the documentation (https://selenium-python.readthedocs.io/locating-elements.html)."
      ]
    },
    {
      "cell_type": "markdown",
      "metadata": {
        "id": "JsyFl54d-79Y"
      },
      "source": [
        "## Solution"
      ]
    },
    {
      "cell_type": "code",
      "execution_count": 17,
      "metadata": {
        "id": "LZIHRH7f3F00"
      },
      "outputs": [],
      "source": [
        "browser.get(\"https://books.toscrape.com/\")"
      ]
    },
    {
      "cell_type": "code",
      "execution_count": 18,
      "metadata": {},
      "outputs": [],
      "source": [
        "ul = browser.find_element(By.CLASS_NAME,\"nav-list\").find_element(By.TAG_NAME,\"li\").find_element(By.TAG_NAME,\"ul\")\n",
        "genres = ul.text.split(\"\\n\")\n",
        "genres_len = len(genres)\n"
      ]
    },
    {
      "cell_type": "code",
      "execution_count": 28,
      "metadata": {},
      "outputs": [],
      "source": [
        "products = []\n",
        "for i in range(2,genres_len+1):\n",
        "    browser.get(f'https://books.toscrape.com/catalogue/category/books/{genres[i-2].lower().replace(\" \",\"-\")}_{i}/index.html')\n",
        "    books = browser.find_elements(By.CLASS_NAME,\"image_container\")  \n",
        "    for book in books:\n",
        "        book.find_element(By.TAG_NAME,\"a\").click()\n",
        "        img = browser.find_element(By.TAG_NAME,\"img\").get_attribute(\"src\")\n",
        "        title = browser.find_element(By.CLASS_NAME,\"product_main\").find_element(By.TAG_NAME,\"h1\").text\n",
        "        desc = browser.find_elements(By.TAG_NAME,\"p\")[3].text\n",
        "        upc = browser.find_element(By.CLASS_NAME,\"table-striped\").find_element(By.TAG_NAME,\"tbody\").find_elements(By.TAG_NAME,\"tr\")[0].find_element(By.TAG_NAME,\"td\").text\n",
        "        type = browser.find_element(By.CLASS_NAME,\"table-striped\").find_element(By.TAG_NAME,\"tbody\").find_elements(By.TAG_NAME,\"tr\")[1].find_element(By.TAG_NAME,\"td\").text\n",
        "        price_no_tax = browser.find_element(By.CLASS_NAME,\"table-striped\").find_element(By.TAG_NAME,\"tbody\").find_elements(By.TAG_NAME,\"tr\")[2].find_element(By.TAG_NAME,\"td\").text\n",
        "        price_tax = browser.find_element(By.CLASS_NAME,\"table-striped\").find_element(By.TAG_NAME,\"tbody\").find_elements(By.TAG_NAME,\"tr\")[3].find_element(By.TAG_NAME,\"td\").text\n",
        "        tax = browser.find_element(By.CLASS_NAME,\"table-striped\").find_element(By.TAG_NAME,\"tbody\").find_elements(By.TAG_NAME,\"tr\")[4].find_element(By.TAG_NAME,\"td\").text\n",
        "        available = browser.find_element(By.CLASS_NAME,\"table-striped\").find_element(By.TAG_NAME,\"tbody\").find_elements(By.TAG_NAME,\"tr\")[5].find_element(By.TAG_NAME,\"td\").text\n",
        "        num_reviews =browser.find_element(By.CLASS_NAME,\"table-striped\").find_element(By.TAG_NAME,\"tbody\").find_elements(By.TAG_NAME,\"tr\")[6].find_element(By.TAG_NAME,\"td\").text\n",
        "        rating = browser.find_element(By.CLASS_NAME,\"star-rating\").get_attribute(\"class\").split(\" \")[1]\n",
        "        products.append((upc,title,desc,rating,type,available,price_no_tax,price_tax,tax,num_reviews,img)) \n",
        "        browser.back()\n",
        "        \n",
        "    "
      ]
    },
    {
      "cell_type": "code",
      "execution_count": 34,
      "metadata": {},
      "outputs": [],
      "source": [
        "df = pd.DataFrame(products,columns=[\"upc\",\"title\",\"description\",\"rating\",\"type\",\"available\",\"price_no_tax\",\"price_tax\",\"tax\",\"num_reviews\",\"img\"])\n",
        "df.to_csv(\"csv/books.csv\",index=False)"
      ]
    },
    {
      "cell_type": "markdown",
      "metadata": {
        "id": "UyMTnSHn681f"
      },
      "source": [
        "# Laboratory Exercise - Bonus Task (+ 2 points)"
      ]
    },
    {
      "cell_type": "markdown",
      "metadata": {
        "id": "aMhYrG8V7hKY"
      },
      "source": [
        "As an additional task, you will need to click on each book listed on the page, proceed to the individual page for each book, and extract the quantity of available copies. Subsequently, you are required to compute both the mean and standard deviation of the quantities of these books."
      ]
    },
    {
      "cell_type": "markdown",
      "metadata": {
        "id": "jQIBbGWS9-tx"
      },
      "source": [
        "## Hints\n",
        "- To click on a specific `element` on a web page use `element.click()`.\n",
        "- To navigate back to the previous page use `browser.back()`."
      ]
    },
    {
      "cell_type": "markdown",
      "metadata": {
        "id": "lxPS-iXi-5fO"
      },
      "source": [
        "## Solution"
      ]
    },
    {
      "cell_type": "code",
      "execution_count": null,
      "metadata": {
        "id": "kbuPg7136_2q"
      },
      "outputs": [],
      "source": [
        "# I have everything in the code above XD."
      ]
    }
  ],
  "metadata": {
    "colab": {
      "provenance": []
    },
    "kernelspec": {
      "display_name": "venv",
      "language": "python",
      "name": "python3"
    },
    "language_info": {
      "codemirror_mode": {
        "name": "ipython",
        "version": 3
      },
      "file_extension": ".py",
      "mimetype": "text/x-python",
      "name": "python",
      "nbconvert_exporter": "python",
      "pygments_lexer": "ipython3",
      "version": "3.12.7"
    }
  },
  "nbformat": 4,
  "nbformat_minor": 0
}
